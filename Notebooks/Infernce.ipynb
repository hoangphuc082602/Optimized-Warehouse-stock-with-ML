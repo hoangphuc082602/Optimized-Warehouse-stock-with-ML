{
 "cells": [
  {
   "cell_type": "markdown",
   "id": "7b16becf",
   "metadata": {},
   "source": [
    "Import libaries for the Inference"
   ]
  },
  {
   "cell_type": "code",
   "execution_count": 4,
   "id": "ac2ea35f",
   "metadata": {},
   "outputs": [
    {
     "ename": "NameError",
     "evalue": "name '__init__' is not defined",
     "output_type": "error",
     "traceback": [
      "\u001b[31m---------------------------------------------------------------------------\u001b[39m",
      "\u001b[31mNameError\u001b[39m                                 Traceback (most recent call last)",
      "\u001b[36mCell\u001b[39m\u001b[36m \u001b[39m\u001b[32mIn[4]\u001b[39m\u001b[32m, line 6\u001b[39m\n\u001b[32m      3\u001b[39m \u001b[38;5;28;01mimport\u001b[39;00m\u001b[38;5;250m \u001b[39m\u001b[34;01mjoblib\u001b[39;00m\n\u001b[32m      5\u001b[39m \u001b[38;5;28;01mimport\u001b[39;00m\u001b[38;5;250m \u001b[39m\u001b[34;01msys\u001b[39;00m\n\u001b[32m----> \u001b[39m\u001b[32m6\u001b[39m sys.path.append(os.path.abspath(os.path.join(os.path.dirname(\u001b[34;43m__init__\u001b[39;49m.py), \u001b[33m\"\u001b[39m\u001b[33m..\u001b[39m\u001b[33m\"\u001b[39m)))\n\u001b[32m      8\u001b[39m \u001b[38;5;28;01mfrom\u001b[39;00m\u001b[38;5;250m \u001b[39m\u001b[34;01msrc\u001b[39;00m\u001b[34;01m.\u001b[39;00m\u001b[34;01mpreprocess\u001b[39;00m\u001b[38;5;250m \u001b[39m\u001b[38;5;28;01mimport\u001b[39;00m build_preprocessor, CATEGORICAL_FEATURES, NUMERIC_FEATURES\n",
      "\u001b[31mNameError\u001b[39m: name '__init__' is not defined"
     ]
    }
   ],
   "source": [
    "import os\n",
    "import pandas as pd\n",
    "import joblib\n",
    "\n",
    "import sys\n",
    "sys.path.append(os.path.abspath(os.path.join(os.path.dirname(__init__.py), \"..\")))\n",
    "\n",
    "from src.preprocess import build_preprocessor, CATEGORICAL_FEATURES, NUMERIC_FEATURES"
   ]
  },
  {
   "cell_type": "markdown",
   "id": "6e57605f",
   "metadata": {},
   "source": [
    "Loading model"
   ]
  },
  {
   "cell_type": "code",
   "execution_count": null,
   "id": "80643b9c",
   "metadata": {},
   "outputs": [],
   "source": [
    "MODEL_PATH = os.path.join(\"..\", \"Models\", \"random_forest_model.pkl\")\n",
    "model = joblib.load(MODEL_PATH)"
   ]
  },
  {
   "cell_type": "markdown",
   "id": "8e3dd5e4",
   "metadata": {},
   "source": [
    "Loading test data"
   ]
  },
  {
   "cell_type": "code",
   "execution_count": null,
   "id": "858295c5",
   "metadata": {},
   "outputs": [],
   "source": [
    "DATA_DIR = os.path.join(\"..\", \"Data\")\n",
    "test_df = pd.read_csv(os.path.join(DATA_DIR, \"test.csv\"))"
   ]
  },
  {
   "cell_type": "code",
   "execution_count": null,
   "id": "b2e93abd",
   "metadata": {},
   "outputs": [
    {
     "ename": "NameError",
     "evalue": "name 'test_df' is not defined",
     "output_type": "error",
     "traceback": [
      "\u001b[31m---------------------------------------------------------------------------\u001b[39m",
      "\u001b[31mNameError\u001b[39m                                 Traceback (most recent call last)",
      "\u001b[36mCell\u001b[39m\u001b[36m \u001b[39m\u001b[32mIn[1]\u001b[39m\u001b[32m, line 1\u001b[39m\n\u001b[32m----> \u001b[39m\u001b[32m1\u001b[39m X_test = \u001b[43mtest_df\u001b[49m[NUMERIC_FEATURES + CATEGORICAL_FEATURES]\n\u001b[32m      2\u001b[39m y_pred = model.predict(X_test)\n",
      "\u001b[31mNameError\u001b[39m: name 'test_df' is not defined"
     ]
    }
   ],
   "source": [
    "X_test = test_df[NUMERIC_FEATURES + CATEGORICAL_FEATURES]\n"
   ]
  },
  {
   "cell_type": "markdown",
   "id": "d41a56b3",
   "metadata": {},
   "source": [
    "Running model for prediction"
   ]
  },
  {
   "cell_type": "code",
   "execution_count": null,
   "id": "907b9e90",
   "metadata": {},
   "outputs": [],
   "source": [
    "y_pred = model.predict(X_test)"
   ]
  },
  {
   "cell_type": "markdown",
   "id": "89933b44",
   "metadata": {},
   "source": [
    "Export the result"
   ]
  },
  {
   "cell_type": "code",
   "execution_count": null,
   "id": "39dd203c",
   "metadata": {},
   "outputs": [],
   "source": [
    "output = pd.DataFrame({\n",
    "    \"id\": test_df[\"id\"],  # nếu test có cột id\n",
    "    \"num_orders_pred\": y_pred\n",
    "})\n"
   ]
  },
  {
   "cell_type": "markdown",
   "id": "18ff827d",
   "metadata": {},
   "source": [
    "Export to csv file"
   ]
  },
  {
   "cell_type": "code",
   "execution_count": null,
   "id": "d7d59bd4",
   "metadata": {},
   "outputs": [],
   "source": [
    "OUTPUT_PATH = os.path.join(\"..\", \"Data\", \"submission.csv\")\n",
    "output.to_csv(OUTPUT_PATH, index=False)\n",
    "\n",
    "print(\"Inference done. File saved to:\", OUTPUT_PATH)\n",
    "output.head()"
   ]
  }
 ],
 "metadata": {
  "kernelspec": {
   "display_name": "SalesMLenv (3.13.5)",
   "language": "python",
   "name": "python3"
  },
  "language_info": {
   "codemirror_mode": {
    "name": "ipython",
    "version": 3
   },
   "file_extension": ".py",
   "mimetype": "text/x-python",
   "name": "python",
   "nbconvert_exporter": "python",
   "pygments_lexer": "ipython3",
   "version": "3.13.5"
  }
 },
 "nbformat": 4,
 "nbformat_minor": 5
}
