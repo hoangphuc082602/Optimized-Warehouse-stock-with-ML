{
 "cells": [
  {
   "cell_type": "markdown",
   "id": "db3b522d",
   "metadata": {},
   "source": [
    "### Preprocessing data"
   ]
  },
  {
   "cell_type": "markdown",
   "id": "e6c9ee65",
   "metadata": {},
   "source": [
    "Import necessary libaries"
   ]
  },
  {
   "cell_type": "code",
   "execution_count": 30,
   "id": "c66f22a2",
   "metadata": {},
   "outputs": [],
   "source": [
    "import numpy as np\n",
    "import pandas as pd\n",
    "from sklearn.model_selection import train_test_split\n",
    "from sklearn.linear_model import LinearRegression\n",
    "from sklearn.metrics import accuracy_score, confusion_matrix, mean_absolute_error, r2_score\n",
    "from sklearn.ensemble import RandomForestRegressor\n",
    "from sklearn.preprocessing import OneHotEncoder\n",
    "from sklearn.compose import ColumnTransformer\n",
    "from sklearn.pipeline import Pipeline\n",
    "from xgboost import XGBRegressor"
   ]
  },
  {
   "cell_type": "markdown",
   "id": "8c884986",
   "metadata": {},
   "source": [
    "***Reading data***"
   ]
  },
  {
   "cell_type": "code",
   "execution_count": 4,
   "id": "0747e62d",
   "metadata": {},
   "outputs": [],
   "source": [
    "center_info = pd.read_csv('../Data/fulfilment_center_info.csv')\n",
    "meal_info = pd.read_csv('../Data/meal_info.csv')\n",
    "train = pd.read_csv('../Data/train.csv')"
   ]
  },
  {
   "cell_type": "markdown",
   "id": "f037b886",
   "metadata": {},
   "source": [
    "Merge data"
   ]
  },
  {
   "cell_type": "code",
   "execution_count": 5,
   "id": "66e62821",
   "metadata": {},
   "outputs": [
    {
     "name": "stdout",
     "output_type": "stream",
     "text": [
      "(456548, 15)\n"
     ]
    },
    {
     "data": {
      "text/html": [
       "<div>\n",
       "<style scoped>\n",
       "    .dataframe tbody tr th:only-of-type {\n",
       "        vertical-align: middle;\n",
       "    }\n",
       "\n",
       "    .dataframe tbody tr th {\n",
       "        vertical-align: top;\n",
       "    }\n",
       "\n",
       "    .dataframe thead th {\n",
       "        text-align: right;\n",
       "    }\n",
       "</style>\n",
       "<table border=\"1\" class=\"dataframe\">\n",
       "  <thead>\n",
       "    <tr style=\"text-align: right;\">\n",
       "      <th></th>\n",
       "      <th>id</th>\n",
       "      <th>week</th>\n",
       "      <th>center_id</th>\n",
       "      <th>meal_id</th>\n",
       "      <th>checkout_price</th>\n",
       "      <th>base_price</th>\n",
       "      <th>emailer_for_promotion</th>\n",
       "      <th>homepage_featured</th>\n",
       "      <th>num_orders</th>\n",
       "      <th>city_code</th>\n",
       "      <th>region_code</th>\n",
       "      <th>center_type</th>\n",
       "      <th>op_area</th>\n",
       "      <th>category</th>\n",
       "      <th>cuisine</th>\n",
       "    </tr>\n",
       "  </thead>\n",
       "  <tbody>\n",
       "    <tr>\n",
       "      <th>0</th>\n",
       "      <td>1379560</td>\n",
       "      <td>1</td>\n",
       "      <td>55</td>\n",
       "      <td>1885</td>\n",
       "      <td>136.83</td>\n",
       "      <td>152.29</td>\n",
       "      <td>0</td>\n",
       "      <td>0</td>\n",
       "      <td>177</td>\n",
       "      <td>647</td>\n",
       "      <td>56</td>\n",
       "      <td>TYPE_C</td>\n",
       "      <td>2.0</td>\n",
       "      <td>Beverages</td>\n",
       "      <td>Thai</td>\n",
       "    </tr>\n",
       "    <tr>\n",
       "      <th>1</th>\n",
       "      <td>1466964</td>\n",
       "      <td>1</td>\n",
       "      <td>55</td>\n",
       "      <td>1993</td>\n",
       "      <td>136.83</td>\n",
       "      <td>135.83</td>\n",
       "      <td>0</td>\n",
       "      <td>0</td>\n",
       "      <td>270</td>\n",
       "      <td>647</td>\n",
       "      <td>56</td>\n",
       "      <td>TYPE_C</td>\n",
       "      <td>2.0</td>\n",
       "      <td>Beverages</td>\n",
       "      <td>Thai</td>\n",
       "    </tr>\n",
       "    <tr>\n",
       "      <th>2</th>\n",
       "      <td>1346989</td>\n",
       "      <td>1</td>\n",
       "      <td>55</td>\n",
       "      <td>2539</td>\n",
       "      <td>134.86</td>\n",
       "      <td>135.86</td>\n",
       "      <td>0</td>\n",
       "      <td>0</td>\n",
       "      <td>189</td>\n",
       "      <td>647</td>\n",
       "      <td>56</td>\n",
       "      <td>TYPE_C</td>\n",
       "      <td>2.0</td>\n",
       "      <td>Beverages</td>\n",
       "      <td>Thai</td>\n",
       "    </tr>\n",
       "    <tr>\n",
       "      <th>3</th>\n",
       "      <td>1338232</td>\n",
       "      <td>1</td>\n",
       "      <td>55</td>\n",
       "      <td>2139</td>\n",
       "      <td>339.50</td>\n",
       "      <td>437.53</td>\n",
       "      <td>0</td>\n",
       "      <td>0</td>\n",
       "      <td>54</td>\n",
       "      <td>647</td>\n",
       "      <td>56</td>\n",
       "      <td>TYPE_C</td>\n",
       "      <td>2.0</td>\n",
       "      <td>Beverages</td>\n",
       "      <td>Indian</td>\n",
       "    </tr>\n",
       "    <tr>\n",
       "      <th>4</th>\n",
       "      <td>1448490</td>\n",
       "      <td>1</td>\n",
       "      <td>55</td>\n",
       "      <td>2631</td>\n",
       "      <td>243.50</td>\n",
       "      <td>242.50</td>\n",
       "      <td>0</td>\n",
       "      <td>0</td>\n",
       "      <td>40</td>\n",
       "      <td>647</td>\n",
       "      <td>56</td>\n",
       "      <td>TYPE_C</td>\n",
       "      <td>2.0</td>\n",
       "      <td>Beverages</td>\n",
       "      <td>Indian</td>\n",
       "    </tr>\n",
       "  </tbody>\n",
       "</table>\n",
       "</div>"
      ],
      "text/plain": [
       "        id  week  center_id  meal_id  checkout_price  base_price  \\\n",
       "0  1379560     1         55     1885          136.83      152.29   \n",
       "1  1466964     1         55     1993          136.83      135.83   \n",
       "2  1346989     1         55     2539          134.86      135.86   \n",
       "3  1338232     1         55     2139          339.50      437.53   \n",
       "4  1448490     1         55     2631          243.50      242.50   \n",
       "\n",
       "   emailer_for_promotion  homepage_featured  num_orders  city_code  \\\n",
       "0                      0                  0         177        647   \n",
       "1                      0                  0         270        647   \n",
       "2                      0                  0         189        647   \n",
       "3                      0                  0          54        647   \n",
       "4                      0                  0          40        647   \n",
       "\n",
       "   region_code center_type  op_area   category cuisine  \n",
       "0           56      TYPE_C      2.0  Beverages    Thai  \n",
       "1           56      TYPE_C      2.0  Beverages    Thai  \n",
       "2           56      TYPE_C      2.0  Beverages    Thai  \n",
       "3           56      TYPE_C      2.0  Beverages  Indian  \n",
       "4           56      TYPE_C      2.0  Beverages  Indian  "
      ]
     },
     "execution_count": 5,
     "metadata": {},
     "output_type": "execute_result"
    }
   ],
   "source": [
    "data = train.merge(center_info, on=['center_id'], how='inner').merge(meal_info, on=['meal_id'], how='inner').sort_values(by=['week']).reset_index(drop=True)\n",
    "print(data.shape)\n",
    "data.head()"
   ]
  },
  {
   "cell_type": "markdown",
   "id": "abc35c5a",
   "metadata": {},
   "source": [
    "Merging data from 3 different file to get a full data file for training"
   ]
  },
  {
   "cell_type": "code",
   "execution_count": null,
   "id": "91d5a1a5",
   "metadata": {},
   "outputs": [
    {
     "data": {
      "text/html": [
       "<div>\n",
       "<style scoped>\n",
       "    .dataframe tbody tr th:only-of-type {\n",
       "        vertical-align: middle;\n",
       "    }\n",
       "\n",
       "    .dataframe tbody tr th {\n",
       "        vertical-align: top;\n",
       "    }\n",
       "\n",
       "    .dataframe thead th {\n",
       "        text-align: right;\n",
       "    }\n",
       "</style>\n",
       "<table border=\"1\" class=\"dataframe\">\n",
       "  <thead>\n",
       "    <tr style=\"text-align: right;\">\n",
       "      <th></th>\n",
       "      <th>id</th>\n",
       "      <th>week</th>\n",
       "      <th>center_id</th>\n",
       "      <th>meal_id</th>\n",
       "      <th>checkout_price</th>\n",
       "      <th>base_price</th>\n",
       "      <th>emailer_for_promotion</th>\n",
       "      <th>homepage_featured</th>\n",
       "      <th>num_orders</th>\n",
       "      <th>city_code</th>\n",
       "      <th>region_code</th>\n",
       "      <th>center_type</th>\n",
       "      <th>op_area</th>\n",
       "      <th>category</th>\n",
       "      <th>cuisine</th>\n",
       "    </tr>\n",
       "  </thead>\n",
       "  <tbody>\n",
       "    <tr>\n",
       "      <th>73085</th>\n",
       "      <td>1487827</td>\n",
       "      <td>26</td>\n",
       "      <td>34</td>\n",
       "      <td>1445</td>\n",
       "      <td>533.53</td>\n",
       "      <td>670.33</td>\n",
       "      <td>0</td>\n",
       "      <td>0</td>\n",
       "      <td>15</td>\n",
       "      <td>615</td>\n",
       "      <td>34</td>\n",
       "      <td>TYPE_B</td>\n",
       "      <td>4.2</td>\n",
       "      <td>Seafood</td>\n",
       "      <td>Continental</td>\n",
       "    </tr>\n",
       "    <tr>\n",
       "      <th>356552</th>\n",
       "      <td>1095449</td>\n",
       "      <td>115</td>\n",
       "      <td>161</td>\n",
       "      <td>1770</td>\n",
       "      <td>484.03</td>\n",
       "      <td>486.03</td>\n",
       "      <td>0</td>\n",
       "      <td>0</td>\n",
       "      <td>15</td>\n",
       "      <td>658</td>\n",
       "      <td>34</td>\n",
       "      <td>TYPE_B</td>\n",
       "      <td>3.9</td>\n",
       "      <td>Biryani</td>\n",
       "      <td>Indian</td>\n",
       "    </tr>\n",
       "    <tr>\n",
       "      <th>10107</th>\n",
       "      <td>1209260</td>\n",
       "      <td>4</td>\n",
       "      <td>14</td>\n",
       "      <td>1803</td>\n",
       "      <td>147.47</td>\n",
       "      <td>183.36</td>\n",
       "      <td>0</td>\n",
       "      <td>0</td>\n",
       "      <td>500</td>\n",
       "      <td>654</td>\n",
       "      <td>56</td>\n",
       "      <td>TYPE_C</td>\n",
       "      <td>2.7</td>\n",
       "      <td>Extras</td>\n",
       "      <td>Thai</td>\n",
       "    </tr>\n",
       "    <tr>\n",
       "      <th>91623</th>\n",
       "      <td>1262977</td>\n",
       "      <td>32</td>\n",
       "      <td>75</td>\n",
       "      <td>1754</td>\n",
       "      <td>241.56</td>\n",
       "      <td>270.66</td>\n",
       "      <td>1</td>\n",
       "      <td>1</td>\n",
       "      <td>2092</td>\n",
       "      <td>651</td>\n",
       "      <td>77</td>\n",
       "      <td>TYPE_B</td>\n",
       "      <td>4.7</td>\n",
       "      <td>Sandwich</td>\n",
       "      <td>Italian</td>\n",
       "    </tr>\n",
       "    <tr>\n",
       "      <th>16290</th>\n",
       "      <td>1478007</td>\n",
       "      <td>6</td>\n",
       "      <td>53</td>\n",
       "      <td>1878</td>\n",
       "      <td>243.53</td>\n",
       "      <td>280.33</td>\n",
       "      <td>0</td>\n",
       "      <td>1</td>\n",
       "      <td>108</td>\n",
       "      <td>590</td>\n",
       "      <td>56</td>\n",
       "      <td>TYPE_A</td>\n",
       "      <td>3.8</td>\n",
       "      <td>Starters</td>\n",
       "      <td>Thai</td>\n",
       "    </tr>\n",
       "  </tbody>\n",
       "</table>\n",
       "</div>"
      ],
      "text/plain": [
       "             id  week  center_id  meal_id  checkout_price  base_price  \\\n",
       "73085   1487827    26         34     1445          533.53      670.33   \n",
       "356552  1095449   115        161     1770          484.03      486.03   \n",
       "10107   1209260     4         14     1803          147.47      183.36   \n",
       "91623   1262977    32         75     1754          241.56      270.66   \n",
       "16290   1478007     6         53     1878          243.53      280.33   \n",
       "\n",
       "        emailer_for_promotion  homepage_featured  num_orders  city_code  \\\n",
       "73085                       0                  0          15        615   \n",
       "356552                      0                  0          15        658   \n",
       "10107                       0                  0         500        654   \n",
       "91623                       1                  1        2092        651   \n",
       "16290                       0                  1         108        590   \n",
       "\n",
       "        region_code center_type  op_area  category      cuisine  \n",
       "73085            34      TYPE_B      4.2   Seafood  Continental  \n",
       "356552           34      TYPE_B      3.9   Biryani       Indian  \n",
       "10107            56      TYPE_C      2.7    Extras         Thai  \n",
       "91623            77      TYPE_B      4.7  Sandwich      Italian  \n",
       "16290            56      TYPE_A      3.8  Starters         Thai  "
      ]
     },
     "execution_count": 6,
     "metadata": {},
     "output_type": "execute_result"
    }
   ],
   "source": [
    "shuffled = data.sample(frac=1)\n",
    "shuffled.head()"
   ]
  },
  {
   "cell_type": "code",
   "execution_count": 7,
   "id": "5972c03a",
   "metadata": {},
   "outputs": [
    {
     "name": "stdout",
     "output_type": "stream",
     "text": [
      "<class 'pandas.core.frame.DataFrame'>\n",
      "RangeIndex: 456548 entries, 0 to 456547\n",
      "Data columns (total 15 columns):\n",
      " #   Column                 Non-Null Count   Dtype  \n",
      "---  ------                 --------------   -----  \n",
      " 0   id                     456548 non-null  int64  \n",
      " 1   week                   456548 non-null  int64  \n",
      " 2   center_id              456548 non-null  int64  \n",
      " 3   meal_id                456548 non-null  int64  \n",
      " 4   checkout_price         456548 non-null  float64\n",
      " 5   base_price             456548 non-null  float64\n",
      " 6   emailer_for_promotion  456548 non-null  int64  \n",
      " 7   homepage_featured      456548 non-null  int64  \n",
      " 8   num_orders             456548 non-null  int64  \n",
      " 9   city_code              456548 non-null  int64  \n",
      " 10  region_code            456548 non-null  int64  \n",
      " 11  center_type            456548 non-null  object \n",
      " 12  op_area                456548 non-null  float64\n",
      " 13  category               456548 non-null  object \n",
      " 14  cuisine                456548 non-null  object \n",
      "dtypes: float64(3), int64(9), object(3)\n",
      "memory usage: 52.2+ MB\n"
     ]
    }
   ],
   "source": [
    "data.info()"
   ]
  },
  {
   "cell_type": "markdown",
   "id": "3f747382",
   "metadata": {},
   "source": [
    "**Splitting data for training**"
   ]
  },
  {
   "cell_type": "code",
   "execution_count": 8,
   "id": "64ba784f",
   "metadata": {},
   "outputs": [
    {
     "data": {
      "text/plain": [
       "Index(['id', 'week', 'center_id', 'meal_id', 'checkout_price', 'base_price',\n",
       "       'emailer_for_promotion', 'homepage_featured', 'num_orders', 'city_code',\n",
       "       'region_code', 'center_type', 'op_area', 'category', 'cuisine'],\n",
       "      dtype='object')"
      ]
     },
     "execution_count": 8,
     "metadata": {},
     "output_type": "execute_result"
    }
   ],
   "source": [
    "data.columns"
   ]
  },
  {
   "cell_type": "markdown",
   "id": "f8157274",
   "metadata": {},
   "source": [
    "Choosing features and target for the model"
   ]
  },
  {
   "cell_type": "code",
   "execution_count": null,
   "id": "bce28a62",
   "metadata": {},
   "outputs": [],
   "source": [
    "x = data[['week', 'center_id', 'meal_id', 'checkout_price', 'base_price','emailer_for_promotion', 'homepage_featured', 'city_code','region_code', 'center_type', 'op_area', 'category', 'cuisine']]\n",
    "y = data['num_orders']"
   ]
  },
  {
   "cell_type": "markdown",
   "id": "ea774b89",
   "metadata": {},
   "source": [
    "Splitting data in to train, val and test with the ratio of (80:10:10)"
   ]
  },
  {
   "cell_type": "code",
   "execution_count": 10,
   "id": "bb7d3b5d",
   "metadata": {},
   "outputs": [],
   "source": [
    "x_train, x_test, y_train, y_test = train_test_split(x, y, test_size=0.2, random_state=42)\n",
    "\n",
    "x_train, x_val, y_train, y_val = train_test_split(x_train, y_train, test_size=0.2, random_state=42)"
   ]
  },
  {
   "cell_type": "markdown",
   "id": "72ec28e0",
   "metadata": {},
   "source": [
    "Preprocessing data"
   ]
  },
  {
   "cell_type": "code",
   "execution_count": 11,
   "id": "c0dc48e8",
   "metadata": {},
   "outputs": [
    {
     "name": "stdout",
     "output_type": "stream",
     "text": [
      "<class 'pandas.core.frame.DataFrame'>\n",
      "RangeIndex: 456548 entries, 0 to 456547\n",
      "Data columns (total 13 columns):\n",
      " #   Column                 Non-Null Count   Dtype  \n",
      "---  ------                 --------------   -----  \n",
      " 0   week                   456548 non-null  int64  \n",
      " 1   center_id              456548 non-null  int64  \n",
      " 2   meal_id                456548 non-null  int64  \n",
      " 3   checkout_price         456548 non-null  float64\n",
      " 4   base_price             456548 non-null  float64\n",
      " 5   emailer_for_promotion  456548 non-null  int64  \n",
      " 6   homepage_featured      456548 non-null  int64  \n",
      " 7   city_code              456548 non-null  int64  \n",
      " 8   region_code            456548 non-null  int64  \n",
      " 9   center_type            456548 non-null  object \n",
      " 10  op_area                456548 non-null  float64\n",
      " 11  category               456548 non-null  object \n",
      " 12  cuisine                456548 non-null  object \n",
      "dtypes: float64(3), int64(7), object(3)\n",
      "memory usage: 45.3+ MB\n",
      "<class 'pandas.core.series.Series'>\n",
      "RangeIndex: 456548 entries, 0 to 456547\n",
      "Series name: num_orders\n",
      "Non-Null Count   Dtype\n",
      "--------------   -----\n",
      "456548 non-null  int64\n",
      "dtypes: int64(1)\n",
      "memory usage: 3.5 MB\n"
     ]
    }
   ],
   "source": [
    "x.info()\n",
    "y.info()"
   ]
  },
  {
   "cell_type": "markdown",
   "id": "c5840fa4",
   "metadata": {},
   "source": [
    "Features \"center_type\", \"category\" and \"cuisine\" has 'object' data-type, so we have to processing it before training the model"
   ]
  },
  {
   "cell_type": "markdown",
   "id": "b6bb57ec",
   "metadata": {},
   "source": [
    "Feature engineering"
   ]
  },
  {
   "cell_type": "code",
   "execution_count": 12,
   "id": "65fd4029",
   "metadata": {},
   "outputs": [],
   "source": [
    "categorical_features = [\"center_type\", \"category\", \"cuisine\"]\n",
    "numeric_features = [\n",
    "    \"week\", \"center_id\", \"meal_id\", \"checkout_price\", \"base_price\",\n",
    "    \"emailer_for_promotion\", \"homepage_featured\", \"city_code\", \"region_code\", \"op_area\"\n",
    "]\n"
   ]
  },
  {
   "cell_type": "code",
   "execution_count": 22,
   "id": "9b3e6beb",
   "metadata": {},
   "outputs": [],
   "source": [
    "preprocessor = ColumnTransformer(\n",
    "    transformers=[\n",
    "        (\"cat\", OneHotEncoder(handle_unknown=\"ignore\"), categorical_features),\n",
    "        (\"num\", \"passthrough\", numeric_features)\n",
    "    ]\n",
    ")\n"
   ]
  },
  {
   "cell_type": "markdown",
   "id": "1cc519ca",
   "metadata": {},
   "source": [
    "### Choosing model"
   ]
  },
  {
   "cell_type": "markdown",
   "id": "549543d8",
   "metadata": {},
   "source": [
    "*Mean*"
   ]
  },
  {
   "cell_type": "code",
   "execution_count": null,
   "id": "8ed1e2d7",
   "metadata": {},
   "outputs": [
    {
     "data": {
      "text/plain": [
       "225.9348659020881"
      ]
     },
     "execution_count": 21,
     "metadata": {},
     "output_type": "execute_result"
    }
   ],
   "source": [
    "avarage = y_test.mean()\n",
    "mean_absolute_error(y_val, [avarage]*len(y_val))"
   ]
  },
  {
   "cell_type": "markdown",
   "id": "80a6b500",
   "metadata": {},
   "source": [
    "*Linear Regression*"
   ]
  },
  {
   "cell_type": "code",
   "execution_count": 23,
   "id": "d0618d24",
   "metadata": {},
   "outputs": [],
   "source": [
    "model = Pipeline(steps=[\n",
    "    (\"preprocessor\", preprocessor),\n",
    "    (\"regressor\", LinearRegression())\n",
    "])"
   ]
  },
  {
   "cell_type": "code",
   "execution_count": 20,
   "id": "d3cf7e7f",
   "metadata": {},
   "outputs": [
    {
     "name": "stdout",
     "output_type": "stream",
     "text": [
      "MEA:  161.4454321197711\n",
      "R2 score:  0.41478694883586364\n"
     ]
    }
   ],
   "source": [
    "linear_model = model.fit(x_train, y_train)\n",
    "print(\"MEA: \", mean_absolute_error(y_val, linear_model.predict(x_val)))\n",
    "print(\"R2 score: \", r2_score(y_val, linear_model.predict(x_val)))"
   ]
  },
  {
   "cell_type": "markdown",
   "id": "7b91a509",
   "metadata": {},
   "source": [
    "*Random Forest Regression*"
   ]
  },
  {
   "cell_type": "code",
   "execution_count": 24,
   "id": "6a834f3f",
   "metadata": {},
   "outputs": [],
   "source": [
    "model_r = Pipeline(steps=[\n",
    "    (\"preprocessor\", preprocessor),\n",
    "    (\"regressor\", RandomForestRegressor(n_estimators=100, random_state=42, n_jobs=-1))\n",
    "])  "
   ]
  },
  {
   "cell_type": "code",
   "execution_count": 21,
   "id": "3ea36c06",
   "metadata": {},
   "outputs": [
    {
     "name": "stdout",
     "output_type": "stream",
     "text": [
      "MEA score:  68.84930360858613\n",
      "R2 score:  0.8595616932513241\n"
     ]
    }
   ],
   "source": [
    "rfr_model = model_r.fit(x_train, y_train)\n",
    "print(\"MEA score: \",mean_absolute_error(y_val, rfr_model.predict(x_val)))\n",
    "print(\"R2 score: \", r2_score(y_val, rfr_model.predict(x_val)))"
   ]
  },
  {
   "cell_type": "markdown",
   "id": "8f512438",
   "metadata": {},
   "source": [
    "*XGBoost*"
   ]
  },
  {
   "cell_type": "code",
   "execution_count": 33,
   "id": "d3201b83",
   "metadata": {},
   "outputs": [],
   "source": [
    "model_x = Pipeline(steps=[\n",
    "    (\"preprocessor\", preprocessor),\n",
    "    (\"regressor\", XGBRegressor(n_estimators=100, learning_rate=0.1, max_depth=3, random_state=42))\n",
    "])"
   ]
  },
  {
   "cell_type": "code",
   "execution_count": null,
   "id": "7e6fed4a",
   "metadata": {},
   "outputs": [
    {
     "name": "stdout",
     "output_type": "stream",
     "text": [
      "MEA score:  116.58675384521484\n",
      "R2 score:  0.8595616932513241\n"
     ]
    }
   ],
   "source": [
    "xgb_model = model_x.fit(x_train, y_train)\n",
    "print(\"MEA score: \", mean_absolute_error(y_val, xgb_model.predict(x_val)))\n",
    "print(\"R2 score: \", r2_score(y_val, rfr_model.predict(x_val)))"
   ]
  },
  {
   "cell_type": "markdown",
   "id": "9c0d74fc",
   "metadata": {},
   "source": [
    "As we can see the result of all the models is :\n",
    "- Linear Regression (**MEA score**:  161.4454321197711,   **R2 score**:  0.41478694883586364)\n",
    "- Random Forest Regression (**MEA score**:  68.84930360858613,  **R2 score**:  0.8595616932513241)\n",
    "- XGBoost (**MEA score**:  116.58675384521484,  **R2 score**:  0.8595616932513241)\n",
    "\n",
    "With the lowest MEA score and R2 score we will choose Random Forest Regression Model for our project"
   ]
  },
  {
   "cell_type": "code",
   "execution_count": null,
   "id": "3515b5da",
   "metadata": {},
   "outputs": [],
   "source": [
    "def Predict_legend_from_file(file_path):\n",
    "    df = pd.read_csv(file_path)\n",
    "\n",
    "    required_cols = ['week', 'center_id', 'meal_id', 'checkout_price', 'base_price','emailer_for_promotion', 'homepage_featured', 'city_code','region_code', 'center_type', 'op_area', 'category', 'cuisine']\n",
    "    if not all(col in df.columns for col in required_cols):\n",
    "        return \"Error: Input file is missing one or more required columns.\"\n",
    "\n",
    "    features = df[required_cols]\n",
    "    predictions = xgb_model.predict(features)\n",
    "\n",
    "    df[\"num_orders\"] = predictions\n",
    "    df.to_csv(\"predictions_output.csv\", index=False)\n",
    "\n",
    "    return df[['week', 'center_id', 'meal_id', 'checkout_price', 'base_price','emailer_for_promotion', 'homepage_featured', 'city_code','region_code', 'center_type', 'op_area', 'category', 'cuisine','num_orders']]"
   ]
  }
 ],
 "metadata": {
  "kernelspec": {
   "display_name": "SalesMLenv (3.13.5)",
   "language": "python",
   "name": "python3"
  },
  "language_info": {
   "codemirror_mode": {
    "name": "ipython",
    "version": 3
   },
   "file_extension": ".py",
   "mimetype": "text/x-python",
   "name": "python",
   "nbconvert_exporter": "python",
   "pygments_lexer": "ipython3",
   "version": "3.13.5"
  }
 },
 "nbformat": 4,
 "nbformat_minor": 5
}
